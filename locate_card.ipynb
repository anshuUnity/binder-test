{
 "cells": [
  {
   "cell_type": "markdown",
   "metadata": {},
   "source": [
    "Binary Search Locate Card\n",
    "\n",
    "Come up with a correct solution for the problem. State it in plain English.\n",
    "Here's how binary search can be applied to our problem:\n",
    "\n",
    "   1. Find the middle element of the list.\n",
    "   2. If it matches queried number, return the middle position as the answer.\n",
    "   3. If it is less than the queried number, then search the first half of the list\n",
    "   4. If it is greater than the queried number, then search the second half of the list\n",
    "   5. If no more elements remain, return -1.\n",
    "\n",
    "<a href='https://jovian.ai/aakashns/python-binary-search'>Link To Python DSA</a>\n",
    "\n",
    "<img src=\"https://miro.medium.com/max/494/1*3eOrsoF9idyOp-0Ll9I9PA.png\" width=\"400px\" height=\"300px\">"
   ]
  },
  {
   "cell_type": "code",
   "execution_count": 1,
   "metadata": {},
   "outputs": [],
   "source": [
    "def test_location(cards, query, mid):\n",
    "    mid_number = cards[mid]\n",
    "    print(\"mid:\", mid, \", mid_number:\", mid_number)\n",
    "    if mid_number == query:\n",
    "        if mid - 1 >= 0 and cards[mid-1] == query:\n",
    "            return 'left'\n",
    "        else:\n",
    "            return 'found'\n",
    "    elif mid_number < query:\n",
    "        return 'left'\n",
    "    else:\n",
    "        return 'right'\n",
    "    \n",
    "\n",
    "\n",
    "def locate_cards(cards, query):\n",
    "    lo, hi = 0, len(cards) - 1\n",
    "    \n",
    "    while lo <= hi:\n",
    "        mid = (lo + hi) // 2 \n",
    "        print(\"lo:\", lo, \", hi:\", hi)\n",
    "        result = test_location(cards, query, mid)\n",
    "\n",
    "        if result == 'found':\n",
    "            return mid\n",
    "        elif result == 'left':\n",
    "            hi = mid - 1\n",
    "        elif result == 'right':\n",
    "            lo = mid + 1\n",
    "\n",
    "    return -1"
   ]
  },
  {
   "cell_type": "markdown",
   "metadata": {},
   "source": [
    "## Generic Binary Search\n",
    "\n",
    "Here is the general strategy behind binary search, which is applicable to a variety of problems:\n",
    "\n",
    "1. Come up with a condition to determine whether the answer lies before, after or at a given position\n",
    "1. Retrieve the midpoint and the middle element of the list.\n",
    "2. If it is the answer, return the middle position as the answer.\n",
    "3. If answer lies before it, repeat the search with the first half of the list\n",
    "4. If the answer lies after it, repeat the search with the second half of the list.\n",
    "\n",
    "Here is the generic algorithm for binary search, implemented in Python"
   ]
  },
  {
   "cell_type": "code",
   "execution_count": null,
   "metadata": {},
   "outputs": [],
   "source": [
    "def binary_search(lo, hi, condition):\n",
    "    \"\"\"TODO - add docs\"\"\"\n",
    "    while lo <= hi:\n",
    "        mid = (lo + hi) // 2\n",
    "        result = condition(mid)\n",
    "        if result == 'found':\n",
    "            return mid\n",
    "        elif result == 'left':\n",
    "            hi = mid - 1\n",
    "        else:\n",
    "            lo = mid + 1\n",
    "    return -1"
   ]
  },
  {
   "cell_type": "markdown",
   "metadata": {},
   "source": [
    "The worst-case complexity or running time of binary search is **O(log N)**, provided the complexity of the condition used to determine whether the answer lies before, after or at a given position is **O(1)**.\n",
    "\n",
    "Note that `binary_search` accepts a function `condition` as an argument. Python allows passing functions as arguments to other functions, unlike C++ and Java.\n",
    "\n",
    "We can now rewrite the `locate_card` function more succinctly using the `binary_search` function."
   ]
  },
  {
   "cell_type": "code",
   "execution_count": 2,
   "metadata": {},
   "outputs": [
    {
     "name": "stdout",
     "output_type": "stream",
     "text": [
      "lo: 0 , hi: 14\n",
      "mid: 7 , mid_number: 6\n",
      "lo: 0 , hi: 6\n",
      "mid: 3 , mid_number: 6\n",
      "lo: 0 , hi: 2\n",
      "mid: 1 , mid_number: 8\n",
      "lo: 2 , hi: 2\n",
      "mid: 2 , mid_number: 6\n"
     ]
    },
    {
     "data": {
      "text/plain": [
       "2"
      ]
     },
     "execution_count": 2,
     "metadata": {},
     "output_type": "execute_result"
    }
   ],
   "source": [
    "locate_cards([8, 8, 6, 6, 6, 6, 6, 6, 3, 2, 2, 2, 0, 0, 0], 6)"
   ]
  }
 ],
 "metadata": {
  "interpreter": {
   "hash": "8f631ce4df4531e3168bdec1deedc1944f215eec0b0ab9b45ec46f4c66d11d0d"
  },
  "kernelspec": {
   "display_name": "Python 3.8.10 64-bit ('anshupal': conda)",
   "language": "python",
   "name": "python3"
  },
  "language_info": {
   "codemirror_mode": {
    "name": "ipython",
    "version": 3
   },
   "file_extension": ".py",
   "mimetype": "text/x-python",
   "name": "python",
   "nbconvert_exporter": "python",
   "pygments_lexer": "ipython3",
   "version": "3.8.10"
  },
  "orig_nbformat": 4
 },
 "nbformat": 4,
 "nbformat_minor": 2
}
